{
 "cells": [
  {
   "cell_type": "markdown",
   "id": "3c4da5bd",
   "metadata": {},
   "source": [
    "## SegNet Segmentation Modelling\n",
    "### RGB Image"
   ]
  },
  {
   "cell_type": "code",
   "execution_count": 1,
   "id": "be3f309c",
   "metadata": {},
   "outputs": [],
   "source": [
    "import os\n",
    "import random\n",
    "from sklearn.model_selection import train_test_split\n",
    "import shutil\n",
    "from shutil import copyfile\n",
    "import cv2\n",
    "import numpy as np\n",
    "import tensorflow as tf\n",
    "from tensorflow.keras.models import Model\n",
    "from tensorflow.keras.models import load_model\n",
    "from tensorflow.keras.layers import Input, Conv2D, MaxPooling2D, UpSampling2D, Concatenate, BatchNormalization, Activation, GlobalAveragePooling2D, Dense\n",
    "from tensorflow.keras import Input\n",
    "from tensorflow.keras.optimizers import Adam\n",
    "from tensorflow.keras.preprocessing.image import ImageDataGenerator, load_img, img_to_array\n",
    "from tensorflow.keras.preprocessing.image import array_to_img\n",
    "import tensorflow.keras.backend as K\n",
    "import matplotlib.pyplot as plt\n",
    "from PIL import Image\n",
    "from keras.layers import Reshape\n",
    "from tensorflow.keras.callbacks import ModelCheckpoint"
   ]
  },
  {
   "cell_type": "code",
   "execution_count": 2,
   "id": "19a7a80b",
   "metadata": {},
   "outputs": [],
   "source": [
    "# Dice coefficient function\n",
    "def dice_coefficient(y_true, y_pred):\n",
    "    smooth = 1.0\n",
    "    y_true_flat = K.flatten(y_true)\n",
    "    y_pred_flat = K.flatten(y_pred)\n",
    "\n",
    "    y_true_flat = K.reshape(y_true_flat, K.shape(y_true))\n",
    "    y_pred_flat = K.reshape(y_pred_flat, K.shape(y_pred))\n",
    "\n",
    "    intersection = K.sum(y_true_flat * y_pred_flat)\n",
    "    dice = (2.0 * intersection + smooth) / (K.sum(y_true_flat) + K.sum(y_pred_flat) + smooth)\n",
    "    return dice\n",
    "\n",
    "# Dice loss function\n",
    "def dice_loss(y_true, y_pred):\n",
    "    return 1.0 - dice_coefficient(y_true, y_pred)\n",
    "\n",
    "# Intersection over Union (IoU) function\n",
    "def iou(y_true, y_pred):\n",
    "    y_true_shape = K.shape(y_true)\n",
    "    y_pred_shape = K.shape(y_pred)\n",
    "\n",
    "    if len(y_true_shape) == len(y_pred_shape):\n",
    "        # Both tensors have the same number of dimensions\n",
    "        intersection = K.sum(K.abs(y_true * y_pred), axis=[1, 2, 3])\n",
    "        union = K.sum(y_true, axis=[1, 2, 3]) + K.sum(y_pred, axis=[1, 2, 3]) - intersection\n",
    "    else:\n",
    "        # One of the tensors has a different number of dimensions\n",
    "        intersection = K.sum(K.abs(y_true * y_pred))\n",
    "        union = K.sum(y_true) + K.sum(y_pred) - intersection\n",
    "\n",
    "    iou = K.mean((intersection + 1e-15) / (union + 1e-15))\n",
    "    return iou"
   ]
  },
  {
   "cell_type": "code",
   "execution_count": 12,
   "id": "ee828da6",
   "metadata": {},
   "outputs": [],
   "source": [
    "def segnet(input_shape):\n",
    "    # Encoder\n",
    "    inputs = Input(shape=input_shape)\n",
    "    x = Conv2D(64, (3, 3), activation='relu', padding='same')(inputs)\n",
    "    x = Conv2D(64, (3, 3), activation='relu', padding='same')(x)\n",
    "    x = MaxPooling2D(pool_size=(2, 2))(x)\n",
    "\n",
    "    x = Conv2D(128, (3, 3), activation='relu', padding='same')(x)\n",
    "    x = Conv2D(128, (3, 3), activation='relu', padding='same')(x)\n",
    "    x = MaxPooling2D(pool_size=(2, 2))(x)\n",
    "\n",
    "    # Decoder\n",
    "    x = UpSampling2D(size=(2, 2))(x)\n",
    "    x = Conv2D(128, (3, 3), activation='relu', padding='same')(x)\n",
    "    x = Conv2D(128, (3, 3), activation='relu', padding='same')(x)\n",
    "\n",
    "    x = UpSampling2D(size=(2, 2))(x)\n",
    "    x = Conv2D(64, (3, 3), activation='relu', padding='same')(x)\n",
    "    x = Conv2D(64, (3, 3), activation='relu', padding='same')(x)\n",
    "\n",
    "    # Output\n",
    "    outputs = Conv2D(3, (1, 1), activation='sigmoid', padding='same')(x)\n",
    "\n",
    "    # Create the model\n",
    "    model = Model(inputs=inputs, outputs=outputs)\n",
    "\n",
    "    return model"
   ]
  },
  {
   "cell_type": "code",
   "execution_count": 13,
   "id": "fc2038eb",
   "metadata": {},
   "outputs": [],
   "source": [
    "input_shape = (256, 256, 3)\n",
    "model = segnet(input_shape)\n",
    "\n",
    "# model compile\n",
    "model.compile(optimizer='adam', loss=dice_loss, metrics=[dice_coefficient, iou])"
   ]
  },
  {
   "cell_type": "code",
   "execution_count": 14,
   "id": "2651696d",
   "metadata": {},
   "outputs": [
    {
     "data": {
      "text/plain": [
       "<KerasTensor: shape=(None, 256, 256, 3) dtype=float32 (created by layer 'input_2')>"
      ]
     },
     "execution_count": 14,
     "metadata": {},
     "output_type": "execute_result"
    }
   ],
   "source": [
    "model.input"
   ]
  },
  {
   "cell_type": "code",
   "execution_count": 15,
   "id": "ca3eea5e",
   "metadata": {},
   "outputs": [
    {
     "data": {
      "text/plain": [
       "<KerasTensor: shape=(None, 256, 256, 3) dtype=float32 (created by layer 'conv2d_17')>"
      ]
     },
     "execution_count": 15,
     "metadata": {},
     "output_type": "execute_result"
    }
   ],
   "source": [
    "model.output"
   ]
  },
  {
   "cell_type": "code",
   "execution_count": 16,
   "id": "fe398e94",
   "metadata": {},
   "outputs": [
    {
     "name": "stdout",
     "output_type": "stream",
     "text": [
      "Found 1056 images belonging to 4 classes.\n",
      "Found 88 images belonging to 4 classes.\n",
      "Found 88 images belonging to 4 classes.\n",
      "1/1 [==============================] - 2s 2s/step\n"
     ]
    }
   ],
   "source": [
    "# Set the number of epochs and batch size for training\n",
    "epochs = 30\n",
    "batch_size = 4\n",
    "\n",
    "output_folder = r'C:\\Users\\BoonJane\\Desktop\\oralcancer\\output'\n",
    "\n",
    "# Set the paths to the train, test, and validation data folders\n",
    "train_data_dir = os.path.join(output_folder, 'train')\n",
    "test_data_dir = os.path.join(output_folder, 'test')\n",
    "val_data_dir = os.path.join(output_folder, 'val')\n",
    "\n",
    "data_gen = ImageDataGenerator(rescale=1./255)\n",
    "\n",
    "# Create the data generators for training, validation, and testing\n",
    "train_data_gen = data_gen.flow_from_directory(\n",
    "    train_data_dir,\n",
    "    target_size=(256, 256),\n",
    "    batch_size=batch_size,\n",
    "    color_mode='rgb',\n",
    "    class_mode='input',  \n",
    "    seed=42\n",
    ")\n",
    "\n",
    "val_data_gen = data_gen.flow_from_directory(\n",
    "    val_data_dir,\n",
    "    target_size=(256, 256),\n",
    "    batch_size=batch_size,\n",
    "    color_mode='rgb',\n",
    "    class_mode='input', \n",
    "    seed=42\n",
    ")\n",
    "\n",
    "test_data_gen = data_gen.flow_from_directory(\n",
    "    test_data_dir,\n",
    "    target_size=(256, 256),\n",
    "    batch_size=batch_size,\n",
    "    color_mode='rgb',\n",
    "    class_mode='input', \n",
    "    seed=42\n",
    ")\n",
    "\n",
    "# Evaluate the model on the test dataset\n",
    "for x, y_true in test_data_gen:\n",
    "    y_pred = model.predict(x)\n",
    "    break"
   ]
  },
  {
   "cell_type": "code",
   "execution_count": 17,
   "id": "574712bb",
   "metadata": {},
   "outputs": [
    {
     "name": "stdout",
     "output_type": "stream",
     "text": [
      "Label data shape: (4, 256, 256, 3)\n",
      "Predicted data shape: (4, 256, 256, 3)\n",
      "Min value of y_true: 0.0\n",
      "Max value of y_true: 1.0\n",
      "Min value of y_pred: 0.48786575\n",
      "Max value of y_pred: 0.50698286\n",
      "Data type of y_true: float32\n",
      "Data type of y_pred: float32\n"
     ]
    }
   ],
   "source": [
    "# check the shapes\n",
    "print(\"Label data shape:\", y_true.shape)\n",
    "print(\"Predicted data shape:\", y_pred.shape)\n",
    "\n",
    "# check on data because IoU value is not logical\n",
    "min_value_true = np.min(y_true)\n",
    "max_value_true = np.max(y_true)\n",
    "min_value_pred = np.min(y_pred)\n",
    "max_value_pred = np.max(y_pred)\n",
    "\n",
    "print(\"Min value of y_true:\", min_value_true)\n",
    "print(\"Max value of y_true:\", max_value_true)\n",
    "print(\"Min value of y_pred:\", min_value_pred)\n",
    "print(\"Max value of y_pred:\", max_value_pred)\n",
    "\n",
    "# # print y_true and y_predict\n",
    "# print(\"y_true:\", y_true)\n",
    "# print(\"y_pred:\", y_pred)\n",
    "\n",
    "# check data type (need to be float)\n",
    "print(\"Data type of y_true:\", y_true.dtype)\n",
    "print(\"Data type of y_pred:\", y_pred.dtype)"
   ]
  },
  {
   "cell_type": "code",
   "execution_count": 18,
   "id": "41bc22d4",
   "metadata": {},
   "outputs": [
    {
     "name": "stdout",
     "output_type": "stream",
     "text": [
      "Epoch 1/30\n",
      "264/264 [==============================] - ETA: 0s - loss: 0.2528 - dice_coefficient: 0.7472 - iou: 0.6658\n",
      "Epoch 1: val_loss improved from inf to 0.19332, saving model to segnetrgb_weights.h5\n",
      "264/264 [==============================] - 921s 3s/step - loss: 0.2528 - dice_coefficient: 0.7472 - iou: 0.6658 - val_loss: 0.1933 - val_dice_coefficient: 0.8067 - val_iou: 0.7582\n",
      "Epoch 2/30\n",
      "264/264 [==============================] - ETA: 0s - loss: 0.1989 - dice_coefficient: 0.8011 - iou: 0.7517\n",
      "Epoch 2: val_loss improved from 0.19332 to 0.19164, saving model to segnetrgb_weights.h5\n",
      "264/264 [==============================] - 925s 4s/step - loss: 0.1989 - dice_coefficient: 0.8011 - iou: 0.7517 - val_loss: 0.1916 - val_dice_coefficient: 0.8084 - val_iou: 0.7430\n",
      "Epoch 3/30\n",
      "264/264 [==============================] - ETA: 0s - loss: 0.1916 - dice_coefficient: 0.8084 - iou: 0.7647\n",
      "Epoch 3: val_loss improved from 0.19164 to 0.17308, saving model to segnetrgb_weights.h5\n",
      "264/264 [==============================] - 925s 4s/step - loss: 0.1916 - dice_coefficient: 0.8084 - iou: 0.7647 - val_loss: 0.1731 - val_dice_coefficient: 0.8269 - val_iou: 0.7785\n",
      "Epoch 4/30\n",
      "264/264 [==============================] - ETA: 0s - loss: 0.1806 - dice_coefficient: 0.8194 - iou: 0.7729\n",
      "Epoch 4: val_loss improved from 0.17308 to 0.16910, saving model to segnetrgb_weights.h5\n",
      "264/264 [==============================] - 925s 3s/step - loss: 0.1806 - dice_coefficient: 0.8194 - iou: 0.7729 - val_loss: 0.1691 - val_dice_coefficient: 0.8309 - val_iou: 0.7808\n",
      "Epoch 5/30\n",
      "264/264 [==============================] - ETA: 0s - loss: 0.1807 - dice_coefficient: 0.8193 - iou: 0.7765\n",
      "Epoch 5: val_loss did not improve from 0.16910\n",
      "264/264 [==============================] - 918s 3s/step - loss: 0.1807 - dice_coefficient: 0.8193 - iou: 0.7765 - val_loss: 0.1758 - val_dice_coefficient: 0.8242 - val_iou: 0.7820\n",
      "Epoch 6/30\n",
      "264/264 [==============================] - ETA: 0s - loss: 0.1820 - dice_coefficient: 0.8180 - iou: 0.7786\n",
      "Epoch 6: val_loss did not improve from 0.16910\n",
      "264/264 [==============================] - 916s 3s/step - loss: 0.1820 - dice_coefficient: 0.8180 - iou: 0.7786 - val_loss: 0.1704 - val_dice_coefficient: 0.8296 - val_iou: 0.7896\n",
      "Epoch 7/30\n",
      "264/264 [==============================] - ETA: 0s - loss: 0.1804 - dice_coefficient: 0.8196 - iou: 0.7792\n",
      "Epoch 7: val_loss did not improve from 0.16910\n",
      "264/264 [==============================] - 917s 3s/step - loss: 0.1804 - dice_coefficient: 0.8196 - iou: 0.7792 - val_loss: 0.1692 - val_dice_coefficient: 0.8308 - val_iou: 0.7889\n",
      "Epoch 8/30\n",
      "264/264 [==============================] - ETA: 0s - loss: 0.1791 - dice_coefficient: 0.8209 - iou: 0.7802\n",
      "Epoch 8: val_loss improved from 0.16910 to 0.16715, saving model to segnetrgb_weights.h5\n",
      "264/264 [==============================] - 922s 3s/step - loss: 0.1791 - dice_coefficient: 0.8209 - iou: 0.7802 - val_loss: 0.1671 - val_dice_coefficient: 0.8329 - val_iou: 0.7897\n",
      "Epoch 9/30\n",
      "264/264 [==============================] - ETA: 0s - loss: 0.1809 - dice_coefficient: 0.8191 - iou: 0.7794\n",
      "Epoch 9: val_loss did not improve from 0.16715\n",
      "264/264 [==============================] - 918s 3s/step - loss: 0.1809 - dice_coefficient: 0.8191 - iou: 0.7794 - val_loss: 0.1688 - val_dice_coefficient: 0.8312 - val_iou: 0.7915\n",
      "Epoch 10/30\n",
      "264/264 [==============================] - ETA: 0s - loss: 0.1812 - dice_coefficient: 0.8188 - iou: 0.7807\n",
      "Epoch 10: val_loss did not improve from 0.16715\n",
      "264/264 [==============================] - 929s 4s/step - loss: 0.1812 - dice_coefficient: 0.8188 - iou: 0.7807 - val_loss: 0.1762 - val_dice_coefficient: 0.8238 - val_iou: 0.7884\n",
      "Epoch 11/30\n",
      "264/264 [==============================] - ETA: 0s - loss: 0.1781 - dice_coefficient: 0.8219 - iou: 0.7803\n",
      "Epoch 11: val_loss did not improve from 0.16715\n",
      "264/264 [==============================] - 917s 3s/step - loss: 0.1781 - dice_coefficient: 0.8219 - iou: 0.7803 - val_loss: 0.1694 - val_dice_coefficient: 0.8306 - val_iou: 0.7913\n",
      "Epoch 12/30\n",
      "264/264 [==============================] - ETA: 0s - loss: 0.1772 - dice_coefficient: 0.8228 - iou: 0.7820\n",
      "Epoch 12: val_loss did not improve from 0.16715\n",
      "264/264 [==============================] - 921s 3s/step - loss: 0.1772 - dice_coefficient: 0.8228 - iou: 0.7820 - val_loss: 0.1704 - val_dice_coefficient: 0.8296 - val_iou: 0.7899\n",
      "Epoch 13/30\n",
      "264/264 [==============================] - ETA: 0s - loss: 0.1789 - dice_coefficient: 0.8211 - iou: 0.7816\n",
      "Epoch 13: val_loss improved from 0.16715 to 0.16513, saving model to segnetrgb_weights.h5\n",
      "264/264 [==============================] - 918s 3s/step - loss: 0.1789 - dice_coefficient: 0.8211 - iou: 0.7816 - val_loss: 0.1651 - val_dice_coefficient: 0.8349 - val_iou: 0.7923\n",
      "Epoch 14/30\n",
      "264/264 [==============================] - ETA: 0s - loss: 0.1804 - dice_coefficient: 0.8196 - iou: 0.7822\n",
      "Epoch 14: val_loss did not improve from 0.16513\n",
      "264/264 [==============================] - 923s 3s/step - loss: 0.1804 - dice_coefficient: 0.8196 - iou: 0.7822 - val_loss: 0.1700 - val_dice_coefficient: 0.8300 - val_iou: 0.7929\n",
      "Epoch 15/30\n",
      "264/264 [==============================] - ETA: 0s - loss: 0.1810 - dice_coefficient: 0.8190 - iou: 0.7826\n",
      "Epoch 15: val_loss did not improve from 0.16513\n",
      "264/264 [==============================] - 928s 4s/step - loss: 0.1810 - dice_coefficient: 0.8190 - iou: 0.7826 - val_loss: 0.1679 - val_dice_coefficient: 0.8321 - val_iou: 0.7929\n",
      "Epoch 16/30\n",
      "264/264 [==============================] - ETA: 0s - loss: 0.1779 - dice_coefficient: 0.8221 - iou: 0.7819\n",
      "Epoch 16: val_loss did not improve from 0.16513\n",
      "264/264 [==============================] - 932s 4s/step - loss: 0.1779 - dice_coefficient: 0.8221 - iou: 0.7819 - val_loss: 0.1729 - val_dice_coefficient: 0.8271 - val_iou: 0.7898\n",
      "Epoch 17/30\n",
      "264/264 [==============================] - ETA: 0s - loss: 0.1787 - dice_coefficient: 0.8213 - iou: 0.7823\n",
      "Epoch 17: val_loss improved from 0.16513 to 0.16325, saving model to segnetrgb_weights.h5\n",
      "264/264 [==============================] - 930s 4s/step - loss: 0.1787 - dice_coefficient: 0.8213 - iou: 0.7823 - val_loss: 0.1632 - val_dice_coefficient: 0.8368 - val_iou: 0.7908\n",
      "Epoch 18/30\n",
      "264/264 [==============================] - ETA: 0s - loss: 0.1779 - dice_coefficient: 0.8221 - iou: 0.7810\n",
      "Epoch 18: val_loss did not improve from 0.16325\n",
      "264/264 [==============================] - 934s 4s/step - loss: 0.1779 - dice_coefficient: 0.8221 - iou: 0.7810 - val_loss: 0.1789 - val_dice_coefficient: 0.8211 - val_iou: 0.7925\n",
      "Epoch 19/30\n",
      "264/264 [==============================] - ETA: 0s - loss: 0.1759 - dice_coefficient: 0.8241 - iou: 0.7830\n",
      "Epoch 19: val_loss did not improve from 0.16325\n",
      "264/264 [==============================] - 930s 4s/step - loss: 0.1759 - dice_coefficient: 0.8241 - iou: 0.7830 - val_loss: 0.1722 - val_dice_coefficient: 0.8278 - val_iou: 0.7903\n",
      "Epoch 20/30\n",
      "264/264 [==============================] - ETA: 0s - loss: 0.1793 - dice_coefficient: 0.8207 - iou: 0.7827\n",
      "Epoch 20: val_loss did not improve from 0.16325\n",
      "264/264 [==============================] - 929s 4s/step - loss: 0.1793 - dice_coefficient: 0.8207 - iou: 0.7827 - val_loss: 0.1744 - val_dice_coefficient: 0.8256 - val_iou: 0.7899\n",
      "Epoch 21/30\n",
      "264/264 [==============================] - ETA: 0s - loss: 0.1786 - dice_coefficient: 0.8214 - iou: 0.7821\n",
      "Epoch 21: val_loss did not improve from 0.16325\n",
      "264/264 [==============================] - 929s 4s/step - loss: 0.1786 - dice_coefficient: 0.8214 - iou: 0.7821 - val_loss: 0.1759 - val_dice_coefficient: 0.8241 - val_iou: 0.7895\n",
      "Epoch 22/30\n",
      "264/264 [==============================] - ETA: 0s - loss: 0.1783 - dice_coefficient: 0.8217 - iou: 0.7836\n",
      "Epoch 22: val_loss did not improve from 0.16325\n",
      "264/264 [==============================] - 932s 4s/step - loss: 0.1783 - dice_coefficient: 0.8217 - iou: 0.7836 - val_loss: 0.1731 - val_dice_coefficient: 0.8269 - val_iou: 0.7931\n",
      "Epoch 23/30\n",
      "264/264 [==============================] - ETA: 0s - loss: 0.1749 - dice_coefficient: 0.8251 - iou: 0.7828\n",
      "Epoch 23: val_loss did not improve from 0.16325\n",
      "264/264 [==============================] - 921s 3s/step - loss: 0.1749 - dice_coefficient: 0.8251 - iou: 0.7828 - val_loss: 0.1716 - val_dice_coefficient: 0.8284 - val_iou: 0.7937\n"
     ]
    },
    {
     "name": "stdout",
     "output_type": "stream",
     "text": [
      "Epoch 24/30\n",
      "264/264 [==============================] - ETA: 0s - loss: 0.1794 - dice_coefficient: 0.8206 - iou: 0.7838\n",
      "Epoch 24: val_loss did not improve from 0.16325\n",
      "264/264 [==============================] - 925s 4s/step - loss: 0.1794 - dice_coefficient: 0.8206 - iou: 0.7838 - val_loss: 0.1773 - val_dice_coefficient: 0.8227 - val_iou: 0.7869\n",
      "Epoch 25/30\n",
      "264/264 [==============================] - ETA: 0s - loss: 0.1790 - dice_coefficient: 0.8210 - iou: 0.7835\n",
      "Epoch 25: val_loss improved from 0.16325 to 0.16252, saving model to segnetrgb_weights.h5\n",
      "264/264 [==============================] - 921s 3s/step - loss: 0.1790 - dice_coefficient: 0.8210 - iou: 0.7835 - val_loss: 0.1625 - val_dice_coefficient: 0.8375 - val_iou: 0.7931\n",
      "Epoch 26/30\n",
      "264/264 [==============================] - ETA: 0s - loss: 0.1759 - dice_coefficient: 0.8241 - iou: 0.7835\n",
      "Epoch 26: val_loss did not improve from 0.16252\n",
      "264/264 [==============================] - 925s 4s/step - loss: 0.1759 - dice_coefficient: 0.8241 - iou: 0.7835 - val_loss: 0.1769 - val_dice_coefficient: 0.8231 - val_iou: 0.7915\n",
      "Epoch 27/30\n",
      "264/264 [==============================] - ETA: 0s - loss: 0.1778 - dice_coefficient: 0.8222 - iou: 0.7838\n",
      "Epoch 27: val_loss did not improve from 0.16252\n",
      "264/264 [==============================] - 919s 3s/step - loss: 0.1778 - dice_coefficient: 0.8222 - iou: 0.7838 - val_loss: 0.1695 - val_dice_coefficient: 0.8305 - val_iou: 0.7915\n",
      "Epoch 28/30\n",
      "264/264 [==============================] - ETA: 0s - loss: 0.1764 - dice_coefficient: 0.8236 - iou: 0.7823\n",
      "Epoch 28: val_loss did not improve from 0.16252\n",
      "264/264 [==============================] - 923s 3s/step - loss: 0.1764 - dice_coefficient: 0.8236 - iou: 0.7823 - val_loss: 0.1698 - val_dice_coefficient: 0.8302 - val_iou: 0.7916\n",
      "Epoch 29/30\n",
      "264/264 [==============================] - ETA: 0s - loss: 0.1785 - dice_coefficient: 0.8215 - iou: 0.7824\n",
      "Epoch 29: val_loss did not improve from 0.16252\n",
      "264/264 [==============================] - 922s 3s/step - loss: 0.1785 - dice_coefficient: 0.8215 - iou: 0.7824 - val_loss: 0.1670 - val_dice_coefficient: 0.8330 - val_iou: 0.7929\n",
      "Epoch 30/30\n",
      "264/264 [==============================] - ETA: 0s - loss: 0.1792 - dice_coefficient: 0.8208 - iou: 0.7832\n",
      "Epoch 30: val_loss improved from 0.16252 to 0.15820, saving model to segnetrgb_weights.h5\n",
      "264/264 [==============================] - 925s 4s/step - loss: 0.1792 - dice_coefficient: 0.8208 - iou: 0.7832 - val_loss: 0.1582 - val_dice_coefficient: 0.8418 - val_iou: 0.7912\n"
     ]
    }
   ],
   "source": [
    "checkpoint_path = \"segnetrgb_weights.h5\"\n",
    "\n",
    "checkpoint = ModelCheckpoint(\n",
    "    checkpoint_path,\n",
    "    monitor='val_loss', \n",
    "    verbose=1,  \n",
    "    save_best_only=True,  \n",
    "    save_weights_only=True  \n",
    ")\n",
    "\n",
    "# Train the model\n",
    "history = model.fit(\n",
    "    train_data_gen,\n",
    "    steps_per_epoch=len(train_data_gen),\n",
    "    epochs=epochs,\n",
    "    validation_data=val_data_gen,\n",
    "    validation_steps=len(val_data_gen),\n",
    "    callbacks=[checkpoint],\n",
    ")"
   ]
  },
  {
   "cell_type": "code",
   "execution_count": 19,
   "id": "825eadf1",
   "metadata": {},
   "outputs": [
    {
     "name": "stdout",
     "output_type": "stream",
     "text": [
      "22/22 [==============================] - 25s 1s/step - loss: 0.1744 - dice_coefficient: 0.8256 - iou: 0.7912\n",
      "Validation Loss: 0.17441508173942566\n",
      "Validation Dice Coefficient: 0.8255850076675415\n",
      "Validation IoU: 0.7911903262138367\n"
     ]
    }
   ],
   "source": [
    "# Evaluate the model on the validation dataset\n",
    "validation_loss, validation_dice_coefficient, validation_iou = model.evaluate(val_data_gen, steps=len(val_data_gen))\n",
    "print(\"Validation Loss:\", validation_loss)\n",
    "print(\"Validation Dice Coefficient:\", validation_dice_coefficient)\n",
    "print(\"Validation IoU:\", validation_iou)"
   ]
  },
  {
   "cell_type": "code",
   "execution_count": 20,
   "id": "7d6ffa7a",
   "metadata": {},
   "outputs": [
    {
     "name": "stdout",
     "output_type": "stream",
     "text": [
      "22/22 [==============================] - 24s 1s/step - loss: 0.1767 - dice_coefficient: 0.8233 - iou: 0.7913\n",
      "Test Loss: 0.17667077481746674\n",
      "Test Dice Coefficient: 0.8233292102813721\n",
      "Test IoU: 0.7912797927856445\n"
     ]
    }
   ],
   "source": [
    "# Test the model on the test dataset\n",
    "test_loss, test_dice_coefficient, test_iou = model.evaluate(test_data_gen, steps=len(test_data_gen))\n",
    "print(\"Test Loss:\", test_loss)\n",
    "print(\"Test Dice Coefficient:\", test_dice_coefficient)\n",
    "print(\"Test IoU:\", test_iou)"
   ]
  },
  {
   "cell_type": "code",
   "execution_count": 21,
   "id": "6b8f4144",
   "metadata": {},
   "outputs": [
    {
     "name": "stdout",
     "output_type": "stream",
     "text": [
      "22/22 [==============================] - 24s 1s/step\n",
      "1/1 [==============================] - 1s 936ms/step\n",
      "1/1 [==============================] - 1s 1s/step\n",
      "1/1 [==============================] - 1s 1s/step\n",
      "1/1 [==============================] - 1s 903ms/step\n",
      "1/1 [==============================] - 1s 965ms/step\n",
      "1/1 [==============================] - 2s 2s/step\n",
      "1/1 [==============================] - 1s 1s/step\n",
      "1/1 [==============================] - 1s 863ms/step\n",
      "1/1 [==============================] - 1s 1s/step\n",
      "1/1 [==============================] - 2s 2s/step\n",
      "1/1 [==============================] - 1s 795ms/step\n",
      "1/1 [==============================] - 1s 826ms/step\n",
      "1/1 [==============================] - 2s 2s/step\n",
      "1/1 [==============================] - 1s 1s/step\n",
      "1/1 [==============================] - 1s 904ms/step\n",
      "1/1 [==============================] - 1s 1s/step\n",
      "1/1 [==============================] - 2s 2s/step\n",
      "1/1 [==============================] - 1s 853ms/step\n",
      "1/1 [==============================] - 1s 827ms/step\n",
      "1/1 [==============================] - 2s 2s/step\n",
      "1/1 [==============================] - 1s 1s/step\n",
      "1/1 [==============================] - 1s 885ms/step\n"
     ]
    }
   ],
   "source": [
    "# Use the model for predictions\n",
    "predictions = model.predict(test_data_gen)\n",
    "# 'predictions' is an array containing the predicted masks for the test images\n",
    "\n",
    "# Save the predicted masks as images\n",
    "output_folder = r\"C:\\Users\\BoonJane\\Desktop\\oralcancer\\segnet\\predictions\"\n",
    "if not os.path.exists(output_folder):\n",
    "    os.makedirs(output_folder)\n",
    "\n",
    "for i, (x, _) in enumerate(test_data_gen):\n",
    "    # Generate predictions for batch of images\n",
    "    y_pred = model.predict(x)\n",
    "\n",
    "    # Save each predicted mask as an image\n",
    "    for j in range(len(y_pred)):\n",
    "        mask = y_pred[j] > 0.5  # Threshold predicted mask\n",
    "        mask_img = array_to_img(mask)\n",
    "        mask_img.save(os.path.join(output_folder, f\"prediction_{i * batch_size + j}.jpg\"))\n",
    "\n",
    "    if i == len(test_data_gen) - 1:\n",
    "        # Processed all test data\n",
    "        break"
   ]
  },
  {
   "cell_type": "code",
   "execution_count": 22,
   "id": "a7deafa2",
   "metadata": {},
   "outputs": [
    {
     "data": {
      "image/png": "[encoded data removed]",
      "text/plain": [
       "<Figure size 1000x400 with 2 Axes>"
      ]
     },
     "metadata": {},
     "output_type": "display_data"
    }
   ],
   "source": [
    "# Plot loss and metrics curves\n",
    "plt.figure(figsize=(10, 4))\n",
    "plt.subplot(1, 2, 1)\n",
    "plt.plot(history.history['loss'], label='Training Loss')\n",
    "plt.plot(history.history['val_loss'], label='Validation Loss')\n",
    "plt.xlabel('Epochs')\n",
    "plt.ylabel('Loss')\n",
    "plt.legend()\n",
    "\n",
    "plt.subplot(1, 2, 2)\n",
    "plt.plot(history.history['dice_coefficient'], label='Training Dice Coefficient')\n",
    "plt.plot(history.history['val_dice_coefficient'], label='Validation Dice Coefficient')\n",
    "plt.plot(history.history['iou'], label='Training IoU')\n",
    "plt.plot(history.history['val_iou'], label='Validation IoU')\n",
    "plt.xlabel('Epochs')\n",
    "plt.ylabel('Metrics')\n",
    "plt.legend()\n",
    "\n",
    "plt.tight_layout()\n",
    "plt.show()"
   ]
  },
  {
   "cell_type": "code",
   "execution_count": 23,
   "id": "ca103cb6",
   "metadata": {},
   "outputs": [],
   "source": [
    "# save model weight\n",
    "model.save('segnetrgb.h5')"
   ]
  }
 ],
 "metadata": {
  "kernelspec": {
   "display_name": "Python 3 (ipykernel)",
   "language": "python",
   "name": "python3"
  },
  "language_info": {
   "codemirror_mode": {
    "name": "ipython",
    "version": 3
   },
   "file_extension": ".py",
   "mimetype": "text/x-python",
   "name": "python",
   "nbconvert_exporter": "python",
   "pygments_lexer": "ipython3",
   "version": "3.10.9"
  }
 },
 "nbformat": 4,
 "nbformat_minor": 5
}
