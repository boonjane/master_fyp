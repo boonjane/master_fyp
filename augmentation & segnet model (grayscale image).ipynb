{
 "cells": [
  {
   "cell_type": "markdown",
   "id": "3c4da5bd",
   "metadata": {},
   "source": [
    "## SegNet Segmentation Modelling\n",
    "### Grayscale Image"
   ]
  },
  {
   "cell_type": "code",
   "execution_count": 1,
   "id": "bcd9f23f",
   "metadata": {},
   "outputs": [],
   "source": [
    "import os\n",
    "import random\n",
    "from sklearn.model_selection import train_test_split\n",
    "import shutil\n",
    "from shutil import copyfile\n",
    "import cv2\n",
    "import numpy as np\n",
    "import tensorflow as tf\n",
    "from tensorflow.keras.models import Model\n",
    "from tensorflow.keras.models import load_model\n",
    "from tensorflow.keras.layers import Input, Conv2D, MaxPooling2D, UpSampling2D, Concatenate, BatchNormalization, Activation, GlobalAveragePooling2D, Dense\n",
    "from tensorflow.keras import Input\n",
    "from tensorflow.keras.optimizers import Adam\n",
    "from tensorflow.keras.preprocessing.image import ImageDataGenerator, load_img, img_to_array\n",
    "from tensorflow.keras.preprocessing.image import array_to_img\n",
    "import tensorflow.keras.backend as K\n",
    "import matplotlib.pyplot as plt\n",
    "from PIL import Image\n",
    "from keras.layers import Reshape\n",
    "from tensorflow.keras.callbacks import ModelCheckpoint"
   ]
  },
  {
   "cell_type": "code",
   "execution_count": 2,
   "id": "19a7a80b",
   "metadata": {},
   "outputs": [],
   "source": [
    "# Dice coefficient function\n",
    "def dice_coefficient(y_true, y_pred):\n",
    "    smooth = 1.0\n",
    "    y_true_flat = K.flatten(y_true)\n",
    "    y_pred_flat = K.flatten(y_pred)\n",
    "\n",
    "    y_true_flat = K.reshape(y_true_flat, K.shape(y_true))\n",
    "    y_pred_flat = K.reshape(y_pred_flat, K.shape(y_pred))\n",
    "\n",
    "    intersection = K.sum(y_true_flat * y_pred_flat)\n",
    "    dice = (2.0 * intersection + smooth) / (K.sum(y_true_flat) + K.sum(y_pred_flat) + smooth)\n",
    "    return dice\n",
    "\n",
    "# Dice loss function\n",
    "def dice_loss(y_true, y_pred):\n",
    "    return 1.0 - dice_coefficient(y_true, y_pred)\n",
    "\n",
    "# Intersection over Union (IoU) function\n",
    "def iou(y_true, y_pred):\n",
    "    y_true_shape = K.shape(y_true)\n",
    "    y_pred_shape = K.shape(y_pred)\n",
    "\n",
    "    if len(y_true_shape) == len(y_pred_shape):\n",
    "        # Both tensors have the same number of dimensions\n",
    "        intersection = K.sum(K.abs(y_true * y_pred), axis=[1, 2, 3])\n",
    "        union = K.sum(y_true, axis=[1, 2, 3]) + K.sum(y_pred, axis=[1, 2, 3]) - intersection\n",
    "    else:\n",
    "        # One of the tensors has a different number of dimensions\n",
    "        intersection = K.sum(K.abs(y_true * y_pred))\n",
    "        union = K.sum(y_true) + K.sum(y_pred) - intersection\n",
    "\n",
    "    iou = K.mean((intersection + 1e-15) / (union + 1e-15))\n",
    "    return iou"
   ]
  },
  {
   "cell_type": "code",
   "execution_count": 3,
   "id": "ee828da6",
   "metadata": {},
   "outputs": [],
   "source": [
    "def segnet(input_shape):\n",
    "    # Encoder\n",
    "    inputs = Input(shape=input_shape)\n",
    "    x = Conv2D(64, (3, 3), activation='relu', padding='same')(inputs)\n",
    "    x = MaxPooling2D((2, 2))(x)\n",
    "    x = Conv2D(128, (3, 3), activation='relu', padding='same')(x)\n",
    "    x = MaxPooling2D((2, 2))(x)\n",
    "    x = Conv2D(256, (3, 3), activation='relu', padding='same')(x)\n",
    "    x = MaxPooling2D((2, 2))(x)\n",
    "\n",
    "    # Decoder\n",
    "    x = UpSampling2D((2, 2))(x)\n",
    "    x = Conv2D(256, (3, 3), activation='relu', padding='same')(x)\n",
    "    x = UpSampling2D((2, 2))(x)\n",
    "    x = Conv2D(128, (3, 3), activation='relu', padding='same')(x)\n",
    "    x = UpSampling2D((2, 2))(x)\n",
    "    x = Conv2D(64, (3, 3), activation='relu', padding='same')(x)\n",
    "    outputs = Conv2D(1, (1, 1), activation='sigmoid', padding='same')(x)\n",
    "\n",
    "    # Create the model\n",
    "    model = Model(inputs=inputs, outputs=outputs)\n",
    "    return model"
   ]
  },
  {
   "cell_type": "code",
   "execution_count": 4,
   "id": "fc2038eb",
   "metadata": {},
   "outputs": [],
   "source": [
    "input_shape = (256, 256, 1)\n",
    "model = segnet(input_shape)\n",
    "\n",
    "# model compile\n",
    "model.compile(optimizer='adam', loss=dice_loss, metrics=[dice_coefficient, iou])"
   ]
  },
  {
   "cell_type": "code",
   "execution_count": 5,
   "id": "2651696d",
   "metadata": {},
   "outputs": [
    {
     "data": {
      "text/plain": [
       "<KerasTensor: shape=(None, 256, 256, 1) dtype=float32 (created by layer 'input_1')>"
      ]
     },
     "execution_count": 5,
     "metadata": {},
     "output_type": "execute_result"
    }
   ],
   "source": [
    "model.input"
   ]
  },
  {
   "cell_type": "code",
   "execution_count": 6,
   "id": "ca3eea5e",
   "metadata": {},
   "outputs": [
    {
     "data": {
      "text/plain": [
       "<KerasTensor: shape=(None, 256, 256, 1) dtype=float32 (created by layer 'conv2d_6')>"
      ]
     },
     "execution_count": 6,
     "metadata": {},
     "output_type": "execute_result"
    }
   ],
   "source": [
    "model.output"
   ]
  },
  {
   "cell_type": "code",
   "execution_count": 7,
   "id": "fe398e94",
   "metadata": {},
   "outputs": [
    {
     "name": "stdout",
     "output_type": "stream",
     "text": [
      "Found 1056 images belonging to 4 classes.\n",
      "Found 88 images belonging to 4 classes.\n",
      "Found 88 images belonging to 4 classes.\n",
      "1/1 [==============================] - 0s 423ms/step\n"
     ]
    }
   ],
   "source": [
    "# Set the number of epochs and batch size for training\n",
    "epochs = 30\n",
    "batch_size = 4\n",
    "\n",
    "output_folder = r'C:\\Users\\BoonJane\\Desktop\\oralcancer\\outputgray'\n",
    "\n",
    "# Set the paths to the train, test, and validation data folders\n",
    "train_data_dir = os.path.join(output_folder, 'train')\n",
    "test_data_dir = os.path.join(output_folder, 'test')\n",
    "val_data_dir = os.path.join(output_folder, 'val')\n",
    "\n",
    "data_gen = ImageDataGenerator(rescale=1./255)\n",
    "\n",
    "# Create the data generators for training, validation, and testing\n",
    "train_data_gen = data_gen.flow_from_directory(\n",
    "    train_data_dir,\n",
    "    target_size=(256, 256),\n",
    "    batch_size=batch_size,\n",
    "    color_mode='grayscale',\n",
    "    class_mode='input',\n",
    "    seed=42\n",
    ")\n",
    "\n",
    "val_data_gen = data_gen.flow_from_directory(\n",
    "    val_data_dir,\n",
    "    target_size=(256, 256),\n",
    "    batch_size=batch_size,\n",
    "    color_mode='grayscale',\n",
    "    class_mode='input',\n",
    "    seed=42\n",
    ")\n",
    "\n",
    "test_data_gen = data_gen.flow_from_directory(\n",
    "    test_data_dir,\n",
    "    target_size=(256, 256),\n",
    "    batch_size=batch_size,\n",
    "    color_mode='grayscale',\n",
    "    class_mode='input',\n",
    "    seed=42\n",
    ")\n",
    "\n",
    "# Evaluate the model on the test dataset\n",
    "for x, y_true in test_data_gen:\n",
    "    y_pred = model.predict(x)\n",
    "    break"
   ]
  },
  {
   "cell_type": "code",
   "execution_count": 8,
   "id": "574712bb",
   "metadata": {},
   "outputs": [
    {
     "name": "stdout",
     "output_type": "stream",
     "text": [
      "Label data shape: (4, 256, 256, 1)\n",
      "Predicted data shape: (4, 256, 256, 1)\n",
      "Min value of y_true: 0.0\n",
      "Max value of y_true: 1.0\n",
      "Min value of y_pred: 0.49691764\n",
      "Max value of y_pred: 0.50457174\n",
      "Data type of y_true: float32\n",
      "Data type of y_pred: float32\n"
     ]
    }
   ],
   "source": [
    "# check the shapes\n",
    "print(\"Label data shape:\", y_true.shape)\n",
    "print(\"Predicted data shape:\", y_pred.shape)\n",
    "\n",
    "# check on data because IoU value is not logical\n",
    "min_value_true = np.min(y_true)\n",
    "max_value_true = np.max(y_true)\n",
    "min_value_pred = np.min(y_pred)\n",
    "max_value_pred = np.max(y_pred)\n",
    "\n",
    "print(\"Min value of y_true:\", min_value_true)\n",
    "print(\"Max value of y_true:\", max_value_true)\n",
    "print(\"Min value of y_pred:\", min_value_pred)\n",
    "print(\"Max value of y_pred:\", max_value_pred)\n",
    "\n",
    "# # print y_true and y_predict\n",
    "# print(\"y_true:\", y_true)\n",
    "# print(\"y_pred:\", y_pred)\n",
    "\n",
    "# check data type (need to be float)\n",
    "print(\"Data type of y_true:\", y_true.dtype)\n",
    "print(\"Data type of y_pred:\", y_pred.dtype)"
   ]
  },
  {
   "cell_type": "code",
   "execution_count": 9,
   "id": "41bc22d4",
   "metadata": {},
   "outputs": [
    {
     "name": "stdout",
     "output_type": "stream",
     "text": [
      "Epoch 1/30\n",
      "264/264 [==============================] - ETA: 0s - loss: 0.2736 - dice_coefficient: 0.7264 - iou: 0.6511\n",
      "Epoch 1: val_loss improved from inf to 0.22794, saving model to segnetgray_weights.h5\n",
      "264/264 [==============================] - 349s 1s/step - loss: 0.2736 - dice_coefficient: 0.7264 - iou: 0.6511 - val_loss: 0.2279 - val_dice_coefficient: 0.7721 - val_iou: 0.7067\n",
      "Epoch 2/30\n",
      "264/264 [==============================] - ETA: 0s - loss: 0.2227 - dice_coefficient: 0.7773 - iou: 0.7256\n",
      "Epoch 2: val_loss improved from 0.22794 to 0.21187, saving model to segnetgray_weights.h5\n",
      "264/264 [==============================] - 353s 1s/step - loss: 0.2227 - dice_coefficient: 0.7773 - iou: 0.7256 - val_loss: 0.2119 - val_dice_coefficient: 0.7881 - val_iou: 0.7198\n",
      "Epoch 3/30\n",
      "264/264 [==============================] - ETA: 0s - loss: 0.2219 - dice_coefficient: 0.7781 - iou: 0.7327\n",
      "Epoch 3: val_loss improved from 0.21187 to 0.20698, saving model to segnetgray_weights.h5\n",
      "264/264 [==============================] - 351s 1s/step - loss: 0.2219 - dice_coefficient: 0.7781 - iou: 0.7327 - val_loss: 0.2070 - val_dice_coefficient: 0.7930 - val_iou: 0.7438\n",
      "Epoch 4/30\n",
      "264/264 [==============================] - ETA: 0s - loss: 0.2180 - dice_coefficient: 0.7820 - iou: 0.7317\n",
      "Epoch 4: val_loss improved from 0.20698 to 0.20236, saving model to segnetgray_weights.h5\n",
      "264/264 [==============================] - 346s 1s/step - loss: 0.2180 - dice_coefficient: 0.7820 - iou: 0.7317 - val_loss: 0.2024 - val_dice_coefficient: 0.7976 - val_iou: 0.7466\n",
      "Epoch 5/30\n",
      "264/264 [==============================] - ETA: 0s - loss: 0.2171 - dice_coefficient: 0.7829 - iou: 0.7389\n",
      "Epoch 5: val_loss did not improve from 0.20236\n",
      "264/264 [==============================] - 348s 1s/step - loss: 0.2171 - dice_coefficient: 0.7829 - iou: 0.7389 - val_loss: 0.2102 - val_dice_coefficient: 0.7898 - val_iou: 0.7456\n",
      "Epoch 6/30\n",
      "264/264 [==============================] - ETA: 0s - loss: 0.2198 - dice_coefficient: 0.7802 - iou: 0.7388\n",
      "Epoch 6: val_loss did not improve from 0.20236\n",
      "264/264 [==============================] - 351s 1s/step - loss: 0.2198 - dice_coefficient: 0.7802 - iou: 0.7388 - val_loss: 0.2067 - val_dice_coefficient: 0.7933 - val_iou: 0.7517\n",
      "Epoch 7/30\n",
      "264/264 [==============================] - ETA: 0s - loss: 0.2169 - dice_coefficient: 0.7831 - iou: 0.7410\n",
      "Epoch 7: val_loss did not improve from 0.20236\n",
      "264/264 [==============================] - 344s 1s/step - loss: 0.2169 - dice_coefficient: 0.7831 - iou: 0.7410 - val_loss: 0.2044 - val_dice_coefficient: 0.7956 - val_iou: 0.7504\n",
      "Epoch 8/30\n",
      "264/264 [==============================] - ETA: 0s - loss: 0.2156 - dice_coefficient: 0.7844 - iou: 0.7417\n",
      "Epoch 8: val_loss did not improve from 0.20236\n",
      "264/264 [==============================] - 350s 1s/step - loss: 0.2156 - dice_coefficient: 0.7844 - iou: 0.7417 - val_loss: 0.2028 - val_dice_coefficient: 0.7972 - val_iou: 0.7514\n",
      "Epoch 9/30\n",
      "264/264 [==============================] - ETA: 0s - loss: 0.2177 - dice_coefficient: 0.7823 - iou: 0.7401\n",
      "Epoch 9: val_loss did not improve from 0.20236\n",
      "264/264 [==============================] - 347s 1s/step - loss: 0.2177 - dice_coefficient: 0.7823 - iou: 0.7401 - val_loss: 0.2044 - val_dice_coefficient: 0.7956 - val_iou: 0.7528\n",
      "Epoch 10/30\n",
      "264/264 [==============================] - ETA: 0s - loss: 0.2181 - dice_coefficient: 0.7819 - iou: 0.7425\n",
      "Epoch 10: val_loss did not improve from 0.20236\n",
      "264/264 [==============================] - 332s 1s/step - loss: 0.2181 - dice_coefficient: 0.7819 - iou: 0.7425 - val_loss: 0.2136 - val_dice_coefficient: 0.7864 - val_iou: 0.7481\n",
      "Epoch 11/30\n",
      "264/264 [==============================] - ETA: 0s - loss: 0.2147 - dice_coefficient: 0.7853 - iou: 0.7413\n",
      "Epoch 11: val_loss did not improve from 0.20236\n",
      "264/264 [==============================] - 350s 1s/step - loss: 0.2147 - dice_coefficient: 0.7853 - iou: 0.7413 - val_loss: 0.2055 - val_dice_coefficient: 0.7945 - val_iou: 0.7525\n",
      "Epoch 12/30\n",
      "264/264 [==============================] - ETA: 0s - loss: 0.2137 - dice_coefficient: 0.7863 - iou: 0.7435\n",
      "Epoch 12: val_loss did not improve from 0.20236\n",
      "264/264 [==============================] - 338s 1s/step - loss: 0.2137 - dice_coefficient: 0.7863 - iou: 0.7435 - val_loss: 0.2065 - val_dice_coefficient: 0.7935 - val_iou: 0.7533\n",
      "Epoch 13/30\n",
      "264/264 [==============================] - ETA: 0s - loss: 0.2161 - dice_coefficient: 0.7839 - iou: 0.7439\n",
      "Epoch 13: val_loss improved from 0.20236 to 0.19821, saving model to segnetgray_weights.h5\n",
      "264/264 [==============================] - 347s 1s/step - loss: 0.2161 - dice_coefficient: 0.7839 - iou: 0.7439 - val_loss: 0.1982 - val_dice_coefficient: 0.8018 - val_iou: 0.7527\n",
      "Epoch 14/30\n",
      "264/264 [==============================] - ETA: 0s - loss: 0.2172 - dice_coefficient: 0.7828 - iou: 0.7442\n",
      "Epoch 14: val_loss did not improve from 0.19821\n",
      "264/264 [==============================] - 350s 1s/step - loss: 0.2172 - dice_coefficient: 0.7828 - iou: 0.7442 - val_loss: 0.2059 - val_dice_coefficient: 0.7941 - val_iou: 0.7524\n",
      "Epoch 15/30\n",
      "264/264 [==============================] - ETA: 0s - loss: 0.2181 - dice_coefficient: 0.7819 - iou: 0.7443\n",
      "Epoch 15: val_loss did not improve from 0.19821\n",
      "264/264 [==============================] - 348s 1s/step - loss: 0.2181 - dice_coefficient: 0.7819 - iou: 0.7443 - val_loss: 0.2049 - val_dice_coefficient: 0.7951 - val_iou: 0.7552\n",
      "Epoch 16/30\n",
      "264/264 [==============================] - ETA: 0s - loss: 0.2141 - dice_coefficient: 0.7859 - iou: 0.7446\n",
      "Epoch 16: val_loss did not improve from 0.19821\n",
      "264/264 [==============================] - 347s 1s/step - loss: 0.2141 - dice_coefficient: 0.7859 - iou: 0.7446 - val_loss: 0.2084 - val_dice_coefficient: 0.7916 - val_iou: 0.7548\n",
      "Epoch 17/30\n",
      "264/264 [==============================] - ETA: 0s - loss: 0.2155 - dice_coefficient: 0.7845 - iou: 0.7424\n",
      "Epoch 17: val_loss improved from 0.19821 to 0.19753, saving model to segnetgray_weights.h5\n",
      "264/264 [==============================] - 343s 1s/step - loss: 0.2155 - dice_coefficient: 0.7845 - iou: 0.7424 - val_loss: 0.1975 - val_dice_coefficient: 0.8025 - val_iou: 0.7532\n",
      "Epoch 18/30\n",
      "264/264 [==============================] - ETA: 0s - loss: 0.2130 - dice_coefficient: 0.7870 - iou: 0.7458\n",
      "Epoch 18: val_loss did not improve from 0.19753\n",
      "264/264 [==============================] - 353s 1s/step - loss: 0.2130 - dice_coefficient: 0.7870 - iou: 0.7458 - val_loss: 0.2163 - val_dice_coefficient: 0.7837 - val_iou: 0.7520\n",
      "Epoch 19/30\n",
      "264/264 [==============================] - ETA: 0s - loss: 0.2123 - dice_coefficient: 0.7877 - iou: 0.7454\n",
      "Epoch 19: val_loss did not improve from 0.19753\n",
      "264/264 [==============================] - 348s 1s/step - loss: 0.2123 - dice_coefficient: 0.7877 - iou: 0.7454 - val_loss: 0.2062 - val_dice_coefficient: 0.7938 - val_iou: 0.7530\n",
      "Epoch 20/30\n",
      "264/264 [==============================] - ETA: 0s - loss: 0.2164 - dice_coefficient: 0.7836 - iou: 0.7445\n",
      "Epoch 20: val_loss did not improve from 0.19753\n",
      "264/264 [==============================] - 340s 1s/step - loss: 0.2164 - dice_coefficient: 0.7836 - iou: 0.7445 - val_loss: 0.2105 - val_dice_coefficient: 0.7895 - val_iou: 0.7518\n",
      "Epoch 21/30\n",
      "264/264 [==============================] - ETA: 0s - loss: 0.2151 - dice_coefficient: 0.7849 - iou: 0.7441\n",
      "Epoch 21: val_loss did not improve from 0.19753\n",
      "264/264 [==============================] - 351s 1s/step - loss: 0.2151 - dice_coefficient: 0.7849 - iou: 0.7441 - val_loss: 0.2121 - val_dice_coefficient: 0.7879 - val_iou: 0.7499\n",
      "Epoch 22/30\n",
      "264/264 [==============================] - ETA: 0s - loss: 0.2150 - dice_coefficient: 0.7850 - iou: 0.7454\n",
      "Epoch 22: val_loss did not improve from 0.19753\n",
      "264/264 [==============================] - 354s 1s/step - loss: 0.2150 - dice_coefficient: 0.7850 - iou: 0.7454 - val_loss: 0.2108 - val_dice_coefficient: 0.7892 - val_iou: 0.7511\n",
      "Epoch 23/30\n",
      "264/264 [==============================] - ETA: 0s - loss: 0.2112 - dice_coefficient: 0.7888 - iou: 0.7444\n",
      "Epoch 23: val_loss did not improve from 0.19753\n",
      "264/264 [==============================] - 350s 1s/step - loss: 0.2112 - dice_coefficient: 0.7888 - iou: 0.7444 - val_loss: 0.2083 - val_dice_coefficient: 0.7917 - val_iou: 0.7539\n"
     ]
    },
    {
     "name": "stdout",
     "output_type": "stream",
     "text": [
      "Epoch 24/30\n",
      "264/264 [==============================] - ETA: 0s - loss: 0.2166 - dice_coefficient: 0.7834 - iou: 0.7456\n",
      "Epoch 24: val_loss did not improve from 0.19753\n",
      "264/264 [==============================] - 346s 1s/step - loss: 0.2166 - dice_coefficient: 0.7834 - iou: 0.7456 - val_loss: 0.2154 - val_dice_coefficient: 0.7846 - val_iou: 0.7456\n",
      "Epoch 25/30\n",
      "264/264 [==============================] - ETA: 0s - loss: 0.2157 - dice_coefficient: 0.7843 - iou: 0.7449\n",
      "Epoch 25: val_loss improved from 0.19753 to 0.19710, saving model to segnetgray_weights.h5\n",
      "264/264 [==============================] - 349s 1s/step - loss: 0.2157 - dice_coefficient: 0.7843 - iou: 0.7449 - val_loss: 0.1971 - val_dice_coefficient: 0.8029 - val_iou: 0.7537\n",
      "Epoch 26/30\n",
      "264/264 [==============================] - ETA: 0s - loss: 0.2123 - dice_coefficient: 0.7877 - iou: 0.7448\n",
      "Epoch 26: val_loss did not improve from 0.19710\n",
      "264/264 [==============================] - 347s 1s/step - loss: 0.2123 - dice_coefficient: 0.7877 - iou: 0.7448 - val_loss: 0.2136 - val_dice_coefficient: 0.7864 - val_iou: 0.7541\n",
      "Epoch 27/30\n",
      "264/264 [==============================] - ETA: 0s - loss: 0.2150 - dice_coefficient: 0.7850 - iou: 0.7452\n",
      "Epoch 27: val_loss did not improve from 0.19710\n",
      "264/264 [==============================] - 351s 1s/step - loss: 0.2150 - dice_coefficient: 0.7850 - iou: 0.7452 - val_loss: 0.2060 - val_dice_coefficient: 0.7940 - val_iou: 0.7544\n",
      "Epoch 28/30\n",
      "264/264 [==============================] - ETA: 0s - loss: 0.2124 - dice_coefficient: 0.7876 - iou: 0.7443\n",
      "Epoch 28: val_loss did not improve from 0.19710\n",
      "264/264 [==============================] - 345s 1s/step - loss: 0.2124 - dice_coefficient: 0.7876 - iou: 0.7443 - val_loss: 0.2064 - val_dice_coefficient: 0.7936 - val_iou: 0.7516\n",
      "Epoch 29/30\n",
      "264/264 [==============================] - ETA: 0s - loss: 0.2156 - dice_coefficient: 0.7844 - iou: 0.7441\n",
      "Epoch 29: val_loss did not improve from 0.19710\n",
      "264/264 [==============================] - 346s 1s/step - loss: 0.2156 - dice_coefficient: 0.7844 - iou: 0.7441 - val_loss: 0.2042 - val_dice_coefficient: 0.7958 - val_iou: 0.7517\n",
      "Epoch 30/30\n",
      "264/264 [==============================] - ETA: 0s - loss: 0.2162 - dice_coefficient: 0.7838 - iou: 0.7449\n",
      "Epoch 30: val_loss improved from 0.19710 to 0.19257, saving model to segnetgray_weights.h5\n",
      "264/264 [==============================] - 350s 1s/step - loss: 0.2162 - dice_coefficient: 0.7838 - iou: 0.7449 - val_loss: 0.1926 - val_dice_coefficient: 0.8074 - val_iou: 0.7498\n"
     ]
    }
   ],
   "source": [
    "checkpoint_path = \"segnetgray_weights.h5\"\n",
    "\n",
    "checkpoint = ModelCheckpoint(\n",
    "    checkpoint_path,\n",
    "    monitor='val_loss', \n",
    "    verbose=1,  \n",
    "    save_best_only=True,  \n",
    "    save_weights_only=True  \n",
    ")\n",
    "\n",
    "# Train the model\n",
    "history = model.fit(\n",
    "    train_data_gen,\n",
    "    steps_per_epoch=len(train_data_gen),\n",
    "    epochs=epochs,\n",
    "    validation_data=val_data_gen,\n",
    "    validation_steps=len(val_data_gen),\n",
    "    callbacks=[checkpoint],\n",
    ")"
   ]
  },
  {
   "cell_type": "code",
   "execution_count": 10,
   "id": "825eadf1",
   "metadata": {},
   "outputs": [
    {
     "name": "stdout",
     "output_type": "stream",
     "text": [
      "22/22 [==============================] - 7s 319ms/step - loss: 0.2115 - dice_coefficient: 0.7885 - iou: 0.7498\n",
      "Validation Loss: 0.21151547133922577\n",
      "Validation Dice Coefficient: 0.788484513759613\n",
      "Validation IoU: 0.749751627445221\n"
     ]
    }
   ],
   "source": [
    "# Evaluate the model on the validation dataset\n",
    "validation_loss, validation_dice_coefficient, validation_iou = model.evaluate(val_data_gen, steps=len(val_data_gen))\n",
    "print(\"Validation Loss:\", validation_loss)\n",
    "print(\"Validation Dice Coefficient:\", validation_dice_coefficient)\n",
    "print(\"Validation IoU:\", validation_iou)"
   ]
  },
  {
   "cell_type": "code",
   "execution_count": 11,
   "id": "7d6ffa7a",
   "metadata": {},
   "outputs": [
    {
     "name": "stdout",
     "output_type": "stream",
     "text": [
      "22/22 [==============================] - 7s 319ms/step - loss: 0.2132 - dice_coefficient: 0.7868 - iou: 0.7507\n",
      "Test Loss: 0.21324467658996582\n",
      "Test Dice Coefficient: 0.7867553234100342\n",
      "Test IoU: 0.7506637573242188\n"
     ]
    }
   ],
   "source": [
    "# Test the model on the test dataset\n",
    "test_loss, test_dice_coefficient, test_iou = model.evaluate(test_data_gen, steps=len(test_data_gen))\n",
    "print(\"Test Loss:\", test_loss)\n",
    "print(\"Test Dice Coefficient:\", test_dice_coefficient)\n",
    "print(\"Test IoU:\", test_iou)"
   ]
  },
  {
   "cell_type": "code",
   "execution_count": 12,
   "id": "6b8f4144",
   "metadata": {},
   "outputs": [
    {
     "name": "stdout",
     "output_type": "stream",
     "text": [
      "22/22 [==============================] - 7s 321ms/step\n",
      "1/1 [==============================] - 0s 343ms/step\n",
      "1/1 [==============================] - 0s 339ms/step\n",
      "1/1 [==============================] - 0s 314ms/step\n",
      "1/1 [==============================] - 0s 383ms/step\n",
      "1/1 [==============================] - 0s 329ms/step\n",
      "1/1 [==============================] - 0s 353ms/step\n",
      "1/1 [==============================] - 0s 313ms/step\n",
      "1/1 [==============================] - 0s 350ms/step\n",
      "1/1 [==============================] - 0s 318ms/step\n",
      "1/1 [==============================] - 0s 351ms/step\n",
      "1/1 [==============================] - 0s 325ms/step\n",
      "1/1 [==============================] - 0s 375ms/step\n",
      "1/1 [==============================] - 0s 329ms/step\n",
      "1/1 [==============================] - 0s 353ms/step\n",
      "1/1 [==============================] - 0s 329ms/step\n",
      "1/1 [==============================] - 0s 346ms/step\n",
      "1/1 [==============================] - 0s 323ms/step\n",
      "1/1 [==============================] - 0s 364ms/step\n",
      "1/1 [==============================] - 0s 312ms/step\n",
      "1/1 [==============================] - 0s 356ms/step\n",
      "1/1 [==============================] - 0s 310ms/step\n",
      "1/1 [==============================] - 0s 345ms/step\n"
     ]
    }
   ],
   "source": [
    "# Use the model for predictions\n",
    "predictions = model.predict(test_data_gen)\n",
    "# 'predictions' is an array containing the predicted masks for the test images\n",
    "\n",
    "# Save the predicted masks as images\n",
    "output_folder = r\"C:\\Users\\BoonJane\\Desktop\\oralcancer\\segnet\\predictionsgray\"\n",
    "if not os.path.exists(output_folder):\n",
    "    os.makedirs(output_folder)\n",
    "\n",
    "for i, (x, _) in enumerate(test_data_gen):\n",
    "    # Generate predictions for batch of images\n",
    "    y_pred = model.predict(x)\n",
    "\n",
    "    # Save each predicted mask as an image\n",
    "    for j in range(len(y_pred)):\n",
    "        mask = y_pred[j] > 0.5  # Threshold predicted mask\n",
    "        mask_img = array_to_img(mask)\n",
    "        mask_img.save(os.path.join(output_folder, f\"prediction_{i * batch_size + j}.jpg\"))\n",
    "\n",
    "    if i == len(test_data_gen) - 1:\n",
    "        # Processed all test data\n",
    "        break"
   ]
  },
  {
   "cell_type": "code",
   "execution_count": 13,
   "id": "a7deafa2",
   "metadata": {},
   "outputs": [
    {
     "data": {
      "image/png": "[encoded data removed]",
      "text/plain": [
       "<Figure size 1000x400 with 2 Axes>"
      ]
     },
     "metadata": {},
     "output_type": "display_data"
    }
   ],
   "source": [
    "# Plot loss and metrics curves\n",
    "plt.figure(figsize=(10, 4))\n",
    "plt.subplot(1, 2, 1)\n",
    "plt.plot(history.history['loss'], label='Training Loss')\n",
    "plt.plot(history.history['val_loss'], label='Validation Loss')\n",
    "plt.xlabel('Epochs')\n",
    "plt.ylabel('Loss')\n",
    "plt.legend()\n",
    "\n",
    "plt.subplot(1, 2, 2)\n",
    "plt.plot(history.history['dice_coefficient'], label='Training Dice Coefficient')\n",
    "plt.plot(history.history['val_dice_coefficient'], label='Validation Dice Coefficient')\n",
    "plt.plot(history.history['iou'], label='Training IoU')\n",
    "plt.plot(history.history['val_iou'], label='Validation IoU')\n",
    "plt.xlabel('Epochs')\n",
    "plt.ylabel('Metrics')\n",
    "plt.legend()\n",
    "\n",
    "plt.tight_layout()\n",
    "plt.show()"
   ]
  },
  {
   "cell_type": "code",
   "execution_count": 14,
   "id": "ca103cb6",
   "metadata": {},
   "outputs": [],
   "source": [
    "# save model weight\n",
    "model.save('segnetgray.h5')"
   ]
  }
 ],
 "metadata": {
  "kernelspec": {
   "display_name": "Python 3 (ipykernel)",
   "language": "python",
   "name": "python3"
  },
  "language_info": {
   "codemirror_mode": {
    "name": "ipython",
    "version": 3
   },
   "file_extension": ".py",
   "mimetype": "text/x-python",
   "name": "python",
   "nbconvert_exporter": "python",
   "pygments_lexer": "ipython3",
   "version": "3.10.9"
  }
 },
 "nbformat": 4,
 "nbformat_minor": 5
}
